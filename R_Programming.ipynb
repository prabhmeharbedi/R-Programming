{
  "metadata": {
    "kernelspec": {
      "name": "ir",
      "display_name": "R",
      "language": "R"
    },
    "language_info": {
      "name": "R",
      "codemirror_mode": "r",
      "pygments_lexer": "r",
      "mimetype": "text/x-r-source",
      "file_extension": ".r",
      "version": "4.0.5"
    },
    "colab": {
      "provenance": [],
      "toc_visible": true,
      "include_colab_link": true
    },
    "gpuClass": "standard"
  },
  "nbformat_minor": 0,
  "nbformat": 4,
  "cells": [
    {
      "cell_type": "markdown",
      "metadata": {
        "id": "view-in-github",
        "colab_type": "text"
      },
      "source": [
        "<a href=\"https://colab.research.google.com/github/prabhmeharbedi/R-Programming/blob/main/R_Programming.ipynb\" target=\"_parent\"><img src=\"https://colab.research.google.com/assets/colab-badge.svg\" alt=\"Open In Colab\"/></a>"
      ]
    },
    {
      "cell_type": "markdown",
      "source": [
        "---\n",
        "# **R Programming**\n",
        "---\n",
        " - Basics Example to Understand R\n",
        " - Reading and Writing to File\n",
        " - Simple plotting\n",
        " - Multi-criteria decision making (MCDM) using Topsis\n",
        " - Model Evaluation Parameters for Regression and Classification using R\n",
        "\n",
        "### **Self learning resource**\n",
        "- Tutorial on R **<a href=\"https://www.w3schools.com/r/\" target=\"_blank\"> Click Here</a>**\n",
        "\n",
        "\n"
      ],
      "metadata": {
        "id": "xsVvMZdV2NCK"
      }
    },
    {
      "cell_type": "markdown",
      "source": [
        "---\n",
        "# **1. Simple Examples**\n",
        "---\n",
        "## **1.1 Addition of two numbers**\n",
        "---"
      ],
      "metadata": {
        "id": "aA5v8sqBvBmy"
      }
    },
    {
      "cell_type": "code",
      "source": [
        "2 + 2                 # Addition"
      ],
      "metadata": {
        "_uuid": "d202d55d-794d-4414-b7a6-ec8ae7d6c92d",
        "_cell_guid": "f1f2ef93-39e3-4c32-bb5e-1d7e671a2644",
        "jupyter": {
          "outputs_hidden": false
        },
        "execution": {
          "iopub.status.busy": "2022-07-03T15:25:28.124907Z",
          "iopub.execute_input": "2022-07-03T15:25:28.126357Z",
          "iopub.status.idle": "2022-07-03T15:25:28.146639Z"
        },
        "trusted": true,
        "id": "e61rTaX2vBm8",
        "colab": {
          "base_uri": "https://localhost:8080/",
          "height": 34
        },
        "outputId": "395833a9-baf0-4650-e401-b7494941a413"
      },
      "execution_count": 1,
      "outputs": [
        {
          "output_type": "display_data",
          "data": {
            "text/html": [
              "4"
            ],
            "text/markdown": "4",
            "text/latex": "4",
            "text/plain": [
              "[1] 4"
            ]
          },
          "metadata": {}
        }
      ]
    },
    {
      "cell_type": "markdown",
      "source": [
        "---\n",
        "## **1.2 Addition of two numbers**\n",
        "---"
      ],
      "metadata": {
        "id": "UerZIS2PE7aN"
      }
    },
    {
      "cell_type": "code",
      "source": [
        "a = 10                  # To assign\n",
        "b = 20\n",
        "c = a + b                 # Addition\n",
        "c"
      ],
      "metadata": {
        "_uuid": "d202d55d-794d-4414-b7a6-ec8ae7d6c92d",
        "_cell_guid": "f1f2ef93-39e3-4c32-bb5e-1d7e671a2644",
        "jupyter": {
          "outputs_hidden": false
        },
        "execution": {
          "iopub.status.busy": "2022-07-03T15:25:28.124907Z",
          "iopub.execute_input": "2022-07-03T15:25:28.126357Z",
          "iopub.status.idle": "2022-07-03T15:25:28.146639Z"
        },
        "trusted": true,
        "colab": {
          "base_uri": "https://localhost:8080/",
          "height": 34
        },
        "outputId": "ea7ed929-c029-4cb1-abdf-1ae9ebd657ff",
        "id": "vHsnOVDbE7aQ"
      },
      "execution_count": 2,
      "outputs": [
        {
          "output_type": "display_data",
          "data": {
            "text/html": [
              "30"
            ],
            "text/markdown": "30",
            "text/latex": "30",
            "text/plain": [
              "[1] 30"
            ]
          },
          "metadata": {}
        }
      ]
    },
    {
      "cell_type": "code",
      "source": [
        "# To Print\n",
        "cat(c)"
      ],
      "metadata": {
        "colab": {
          "base_uri": "https://localhost:8080/"
        },
        "id": "bRPesdkVFFMV",
        "outputId": "3e2e9aed-01d0-4c2f-f30b-0d45648cf7a0"
      },
      "execution_count": 3,
      "outputs": [
        {
          "output_type": "stream",
          "name": "stdout",
          "text": [
            "30"
          ]
        }
      ]
    },
    {
      "cell_type": "code",
      "source": [
        "# To Print\n",
        "print(c)"
      ],
      "metadata": {
        "colab": {
          "base_uri": "https://localhost:8080/"
        },
        "id": "QHN8sw8aFNFQ",
        "outputId": "e7720dfe-33a9-4a34-b9c0-7254bb3ec11e"
      },
      "execution_count": 4,
      "outputs": [
        {
          "output_type": "stream",
          "name": "stdout",
          "text": [
            "[1] 30\n"
          ]
        }
      ]
    },
    {
      "cell_type": "markdown",
      "source": [
        "---\n",
        "## **1.3 Use of function**\n",
        "---"
      ],
      "metadata": {
        "id": "JwohCs39vBm_"
      }
    },
    {
      "cell_type": "code",
      "source": [
        "# Exponential function\n",
        "exp(-200)\n"
      ],
      "metadata": {
        "colab": {
          "base_uri": "https://localhost:8080/",
          "height": 34
        },
        "id": "_OvXKGC7Xe69",
        "outputId": "5f627455-7e97-4a91-db47-dfa6067fc4b7"
      },
      "execution_count": 5,
      "outputs": [
        {
          "output_type": "display_data",
          "data": {
            "text/html": [
              "1.38389652673674e-87"
            ],
            "text/markdown": "1.38389652673674e-87",
            "text/latex": "1.38389652673674e-87",
            "text/plain": [
              "[1] 1.383897e-87"
            ]
          },
          "metadata": {}
        }
      ]
    },
    {
      "cell_type": "code",
      "source": [
        "# Log Function\n",
        "log(100, base = 10)"
      ],
      "metadata": {
        "colab": {
          "base_uri": "https://localhost:8080/",
          "height": 34
        },
        "id": "njSiEp4nXgo9",
        "outputId": "87a41ff1-cefe-4eba-eb94-c9f4f8e3d2bb"
      },
      "execution_count": 6,
      "outputs": [
        {
          "output_type": "display_data",
          "data": {
            "text/html": [
              "2"
            ],
            "text/markdown": "2",
            "text/latex": "2",
            "text/plain": [
              "[1] 2"
            ]
          },
          "metadata": {}
        }
      ]
    },
    {
      "cell_type": "markdown",
      "source": [
        "---\n",
        "## **1.4 Generate Random Number**\n",
        "---"
      ],
      "metadata": {
        "id": "OW4cP0u4yCFF"
      }
    },
    {
      "cell_type": "code",
      "source": [
        "# Generate one random numbers between 0 and 1\n",
        "runif(1)"
      ],
      "metadata": {
        "_uuid": "affe3387-ab90-45ea-845c-dfa84c74994a",
        "_cell_guid": "7e2d1105-9816-472c-8ba1-a340f4a5c326",
        "jupyter": {
          "outputs_hidden": false
        },
        "execution": {
          "iopub.status.busy": "2022-07-03T15:25:28.149057Z",
          "iopub.execute_input": "2022-07-03T15:25:28.150464Z",
          "iopub.status.idle": "2022-07-03T15:25:28.178352Z"
        },
        "trusted": true,
        "colab": {
          "base_uri": "https://localhost:8080/",
          "height": 34
        },
        "id": "DUEzfl2WvBnA",
        "outputId": "ec2413c9-ba1c-46d2-d89b-d10d9a943f11"
      },
      "execution_count": 7,
      "outputs": [
        {
          "output_type": "display_data",
          "data": {
            "text/html": [
              "0.428284256486222"
            ],
            "text/markdown": "0.428284256486222",
            "text/latex": "0.428284256486222",
            "text/plain": [
              "[1] 0.4282843"
            ]
          },
          "metadata": {}
        }
      ]
    },
    {
      "cell_type": "code",
      "source": [
        "# Generate five random numbers between 0 and 1\n",
        "round(runif(5),3)"
      ],
      "metadata": {
        "colab": {
          "base_uri": "https://localhost:8080/",
          "height": 34
        },
        "id": "l5UJWITabIdF",
        "outputId": "b254759a-e64b-45ce-91e0-de2256921309"
      },
      "execution_count": 8,
      "outputs": [
        {
          "output_type": "display_data",
          "data": {
            "text/html": [
              "<style>\n",
              ".list-inline {list-style: none; margin:0; padding: 0}\n",
              ".list-inline>li {display: inline-block}\n",
              ".list-inline>li:not(:last-child)::after {content: \"\\00b7\"; padding: 0 .5ex}\n",
              "</style>\n",
              "<ol class=list-inline><li>0.586</li><li>0.516</li><li>0.229</li><li>0.757</li><li>0.84</li></ol>\n"
            ],
            "text/markdown": "1. 0.586\n2. 0.516\n3. 0.229\n4. 0.757\n5. 0.84\n\n\n",
            "text/latex": "\\begin{enumerate*}\n\\item 0.586\n\\item 0.516\n\\item 0.229\n\\item 0.757\n\\item 0.84\n\\end{enumerate*}\n",
            "text/plain": [
              "[1] 0.586 0.516 0.229 0.757 0.840"
            ]
          },
          "metadata": {}
        }
      ]
    },
    {
      "cell_type": "code",
      "source": [
        "# Generate five random numbers between 1 and 5\n",
        "runif(5, min = 1, max = 5)"
      ],
      "metadata": {
        "colab": {
          "base_uri": "https://localhost:8080/",
          "height": 34
        },
        "id": "txvmuDTHbRvV",
        "outputId": "b566b7c4-dcb5-4eb4-e6d7-7fe69bef915b"
      },
      "execution_count": 9,
      "outputs": [
        {
          "output_type": "display_data",
          "data": {
            "text/html": [
              "<style>\n",
              ".list-inline {list-style: none; margin:0; padding: 0}\n",
              ".list-inline>li {display: inline-block}\n",
              ".list-inline>li:not(:last-child)::after {content: \"\\00b7\"; padding: 0 .5ex}\n",
              "</style>\n",
              "<ol class=list-inline><li>3.5572461290285</li><li>1.37459590099752</li><li>3.75177397485822</li><li>2.31216004677117</li><li>2.45327406469733</li></ol>\n"
            ],
            "text/markdown": "1. 3.5572461290285\n2. 1.37459590099752\n3. 3.75177397485822\n4. 2.31216004677117\n5. 2.45327406469733\n\n\n",
            "text/latex": "\\begin{enumerate*}\n\\item 3.5572461290285\n\\item 1.37459590099752\n\\item 3.75177397485822\n\\item 2.31216004677117\n\\item 2.45327406469733\n\\end{enumerate*}\n",
            "text/plain": [
              "[1] 3.557246 1.374596 3.751774 2.312160 2.453274"
            ]
          },
          "metadata": {}
        }
      ]
    },
    {
      "cell_type": "code",
      "source": [
        "# Get the type of a variable\n",
        "N <- runif(5)\n",
        "N\n",
        "class(N)\n",
        "# in R, indexing starts from 1"
      ],
      "metadata": {
        "colab": {
          "base_uri": "https://localhost:8080/",
          "height": 51
        },
        "id": "jkEoE4bMbbWQ",
        "outputId": "69d65bf6-b07a-40aa-91d5-0ed86a38216f"
      },
      "execution_count": 10,
      "outputs": [
        {
          "output_type": "display_data",
          "data": {
            "text/html": [
              "<style>\n",
              ".list-inline {list-style: none; margin:0; padding: 0}\n",
              ".list-inline>li {display: inline-block}\n",
              ".list-inline>li:not(:last-child)::after {content: \"\\00b7\"; padding: 0 .5ex}\n",
              "</style>\n",
              "<ol class=list-inline><li>0.423660475062206</li><li>0.185127667849883</li><li>0.95394436782226</li><li>0.821857334347442</li><li>0.834567215526477</li></ol>\n"
            ],
            "text/markdown": "1. 0.423660475062206\n2. 0.185127667849883\n3. 0.95394436782226\n4. 0.821857334347442\n5. 0.834567215526477\n\n\n",
            "text/latex": "\\begin{enumerate*}\n\\item 0.423660475062206\n\\item 0.185127667849883\n\\item 0.95394436782226\n\\item 0.821857334347442\n\\item 0.834567215526477\n\\end{enumerate*}\n",
            "text/plain": [
              "[1] 0.4236605 0.1851277 0.9539444 0.8218573 0.8345672"
            ]
          },
          "metadata": {}
        },
        {
          "output_type": "display_data",
          "data": {
            "text/html": [
              "'numeric'"
            ],
            "text/markdown": "'numeric'",
            "text/latex": "'numeric'",
            "text/plain": [
              "[1] \"numeric\""
            ]
          },
          "metadata": {}
        }
      ]
    },
    {
      "cell_type": "markdown",
      "source": [
        "---\n",
        "## **1.5 Basics operations**\n",
        "---"
      ],
      "metadata": {
        "id": "c4Vga_B4b8b6"
      }
    },
    {
      "cell_type": "code",
      "source": [
        "cat(\"N   : \",N)\n",
        "cat(\"\\nMin : \",min(N))          # Min\n",
        "cat(\"\\nMax : \",max(N))          # Max\n",
        "cat(\"\\nSum : \",sum(N))          # Sum\n",
        "cat(\"\\nMean: \",mean(N))         # Mean\n",
        "cat(\"\\nSD  : \",sd(N))           # Standad Deviation"
      ],
      "metadata": {
        "colab": {
          "base_uri": "https://localhost:8080/"
        },
        "id": "xWHdHMlZbuQe",
        "outputId": "3c9a9252-2d92-4654-f064-5c646cb86c96"
      },
      "execution_count": 11,
      "outputs": [
        {
          "output_type": "stream",
          "name": "stdout",
          "text": [
            "N   :  0.4236605 0.1851277 0.9539444 0.8218573 0.8345672\n",
            "Min :  0.1851277\n",
            "Max :  0.9539444\n",
            "Sum :  3.219157\n",
            "Mean:  0.6438314\n",
            "SD  :  0.3252414"
          ]
        }
      ]
    },
    {
      "cell_type": "markdown",
      "source": [
        "---\n",
        "## **1.6 Loop**\n",
        "---"
      ],
      "metadata": {
        "id": "5zyzrToXvBnB"
      }
    },
    {
      "cell_type": "code",
      "source": [
        "# Print 1 to 10\n",
        "for ( i in 1:10){\n",
        "  cat (i,\"\\n\")\n",
        "}"
      ],
      "metadata": {
        "_uuid": "6efe8de2-e55c-4db6-ba2b-0c4e1b9d0dad",
        "_cell_guid": "30d53597-98b7-4aeb-9d88-375f55b9f343",
        "jupyter": {
          "outputs_hidden": false
        },
        "execution": {
          "iopub.status.busy": "2022-07-03T15:25:28.180769Z",
          "iopub.execute_input": "2022-07-03T15:25:28.182207Z",
          "iopub.status.idle": "2022-07-03T15:25:28.203551Z"
        },
        "trusted": true,
        "colab": {
          "base_uri": "https://localhost:8080/"
        },
        "id": "BqmdotlVvBnB",
        "outputId": "3dc092fd-42ed-462f-f7fd-6ef22cd29a71"
      },
      "execution_count": 12,
      "outputs": [
        {
          "output_type": "stream",
          "name": "stdout",
          "text": [
            "1 \n",
            "2 \n",
            "3 \n",
            "4 \n",
            "5 \n",
            "6 \n",
            "7 \n",
            "8 \n",
            "9 \n",
            "10 \n"
          ]
        }
      ]
    },
    {
      "cell_type": "code",
      "source": [
        "# Print 10 random number between 1 and 100 using loop\n",
        "for ( i in 1:10){\n",
        "  cat (i, \"-->\", round(runif(1,min=1,max=100),0), \"\\n\")\n",
        "}"
      ],
      "metadata": {
        "colab": {
          "base_uri": "https://localhost:8080/"
        },
        "id": "xnRY3MW4d3dp",
        "outputId": "2007b784-1a69-44f2-e149-89661ebdf658"
      },
      "execution_count": 13,
      "outputs": [
        {
          "output_type": "stream",
          "name": "stdout",
          "text": [
            "1 --> 68 \n",
            "2 --> 37 \n",
            "3 --> 19 \n",
            "4 --> 79 \n",
            "5 --> 52 \n",
            "6 --> 56 \n",
            "7 --> 95 \n",
            "8 --> 99 \n",
            "9 --> 16 \n",
            "10 --> 87 \n"
          ]
        }
      ]
    },
    {
      "cell_type": "code",
      "source": [
        "# Print 10 random number between 1 and 100\n",
        "N = round(runif(10, min=1, max=100), 0)\n",
        "cat(N)"
      ],
      "metadata": {
        "colab": {
          "base_uri": "https://localhost:8080/"
        },
        "id": "6qACur_9d1_A",
        "outputId": "6cf53958-933d-4f7c-eaaf-2b962d0cdde9"
      },
      "execution_count": 14,
      "outputs": [
        {
          "output_type": "stream",
          "name": "stdout",
          "text": [
            "10 11 84 21 100 82 17 84 73 77"
          ]
        }
      ]
    },
    {
      "cell_type": "markdown",
      "source": [
        "---\n",
        "## **1.7 If-Else**\n",
        "---"
      ],
      "metadata": {
        "id": "FQiGjcqdvBnC"
      }
    },
    {
      "cell_type": "code",
      "source": [
        "# If-else\n",
        "i=20\n",
        "if (i==20){\n",
        "  cat(\"Yes\")\n",
        "}else {\n",
        "  cat(\"No\")\n",
        "}"
      ],
      "metadata": {
        "_uuid": "5decaca5-4ec3-4bcd-8d22-a3c19a348c8a",
        "_cell_guid": "85e24367-9083-445b-a3a0-12d74a158155",
        "jupyter": {
          "outputs_hidden": false
        },
        "execution": {
          "iopub.status.busy": "2022-07-03T15:25:28.205883Z",
          "iopub.execute_input": "2022-07-03T15:25:28.207300Z",
          "iopub.status.idle": "2022-07-03T15:25:28.239570Z"
        },
        "trusted": true,
        "colab": {
          "base_uri": "https://localhost:8080/"
        },
        "id": "QXxGJZZxvBnD",
        "outputId": "df6b613c-b5d9-4fbb-f3d0-852ed31abb26"
      },
      "execution_count": 15,
      "outputs": [
        {
          "output_type": "stream",
          "name": "stdout",
          "text": [
            "Yes"
          ]
        }
      ]
    },
    {
      "cell_type": "code",
      "source": [
        "# Error: If-else\n",
        "i=20\n",
        "if (i==20){\n",
        "  cat(\"Yes\")\n",
        "}                         # else should be in same line as }\n",
        "else{\n",
        "  cat(\"NO\")\n",
        "}"
      ],
      "metadata": {
        "colab": {
          "base_uri": "https://localhost:8080/",
          "height": 147
        },
        "id": "qFKez7TNecHk",
        "outputId": "e119135c-d34e-4269-a368-a9ce10e95154"
      },
      "execution_count": 16,
      "outputs": [
        {
          "output_type": "error",
          "ename": "ERROR",
          "evalue": "ignored",
          "traceback": [
            "Error in parse(text = x, srcfile = src): <text>:6:1: unexpected 'else'\n5: }                         # else should be in same line as }\n6: else\n   ^\nTraceback:\n"
          ]
        }
      ]
    },
    {
      "cell_type": "code",
      "source": [
        "# If-else\n",
        "a = 10\n",
        "b = 20\n",
        "if (a > b){\n",
        "  cat(a, \" is Greater\")\n",
        "}else{\n",
        "  cat(b, \" is Greater\")\n",
        "}"
      ],
      "metadata": {
        "id": "5HCHtEq-egfh"
      },
      "execution_count": null,
      "outputs": []
    },
    {
      "cell_type": "markdown",
      "source": [
        "---\n",
        "## **1.8 Some More Examples**\n",
        "---"
      ],
      "metadata": {
        "id": "eu3Np3XmvBnG"
      }
    },
    {
      "cell_type": "code",
      "source": [
        "# Actual\n",
        "Actual <- round(runif(100, min = 1, max = 5),2)\n",
        "Actual\n",
        "class(Actual)"
      ],
      "metadata": {
        "_uuid": "b1b42519-6c1f-41f1-9209-ec2fff912ec6",
        "_cell_guid": "e653392a-adc7-41b5-a5b3-cfd62b40d3b7",
        "jupyter": {
          "outputs_hidden": false
        },
        "execution": {
          "iopub.status.busy": "2022-07-03T15:25:28.268022Z",
          "iopub.execute_input": "2022-07-03T15:25:28.270850Z",
          "iopub.status.idle": "2022-07-03T15:25:28.304475Z"
        },
        "trusted": true,
        "id": "x7ry5J4uvBnG"
      },
      "execution_count": null,
      "outputs": []
    },
    {
      "cell_type": "code",
      "source": [
        "# Use of Head\n",
        "head(Actual)\n",
        "head(Actual,10)\n",
        "head(Actual,20)\n"
      ],
      "metadata": {
        "id": "N7fUlhnXCbVR"
      },
      "execution_count": null,
      "outputs": []
    },
    {
      "cell_type": "code",
      "source": [
        "# Use of tail\n",
        "tail(Actual)\n",
        "tail(Actual,10)\n",
        "tail(Actual,20)"
      ],
      "metadata": {
        "id": "67v3VSd-KTF4"
      },
      "execution_count": null,
      "outputs": []
    },
    {
      "cell_type": "code",
      "source": [
        "# Predicted\n",
        "Predicted <- round(runif(100, min = 1, max = 5),2)\n",
        "head(Predicted)"
      ],
      "metadata": {
        "id": "wmY6BXVSCtNF"
      },
      "execution_count": null,
      "outputs": []
    },
    {
      "cell_type": "markdown",
      "source": [
        "---\n",
        "## **1.9 Basic Operations (Difference, SOD, MAE, Correlation)**\n",
        "---"
      ],
      "metadata": {
        "id": "vb3jXEyLC8NW"
      }
    },
    {
      "cell_type": "code",
      "source": [
        "# Difference\n",
        "D = Actual - Predicted\n",
        "cat(D)"
      ],
      "metadata": {
        "_uuid": "b1b42519-6c1f-41f1-9209-ec2fff912ec6",
        "_cell_guid": "e653392a-adc7-41b5-a5b3-cfd62b40d3b7",
        "jupyter": {
          "outputs_hidden": false
        },
        "execution": {
          "iopub.status.busy": "2022-07-03T15:25:28.268022Z",
          "iopub.execute_input": "2022-07-03T15:25:28.270850Z",
          "iopub.status.idle": "2022-07-03T15:25:28.304475Z"
        },
        "trusted": true,
        "id": "qUwdCNajC8NY"
      },
      "execution_count": null,
      "outputs": []
    },
    {
      "cell_type": "code",
      "source": [
        "# Sum of Difference (SOD)\n",
        "SOD = sum(D)\n",
        "cat(SOD)"
      ],
      "metadata": {
        "id": "cSyDHGRkDbli"
      },
      "execution_count": null,
      "outputs": []
    },
    {
      "cell_type": "code",
      "source": [
        "# Correlation\n",
        "COR = cor(Actual, Predicted)\n",
        "cat(COR)"
      ],
      "metadata": {
        "id": "q0JhhmW8DmHY"
      },
      "execution_count": null,
      "outputs": []
    },
    {
      "cell_type": "code",
      "source": [
        "# Mean Absolute Error (MAE)\n",
        "MAE = mean(abs(Actual-Predicted))\n",
        "cat(MAE)"
      ],
      "metadata": {
        "id": "93VZP6YXDhuE"
      },
      "execution_count": null,
      "outputs": []
    },
    {
      "cell_type": "code",
      "source": [
        "# Accuracy with 0.1 acceptable error\n",
        "Accuracy = abs(Actual-Predicted) > 0.1\n",
        "cat(Accuracy)\n",
        "\n",
        "Accuracy = mean(Accuracy)*100\n",
        "Accuracy"
      ],
      "metadata": {
        "id": "4DoFCRdZHw60"
      },
      "execution_count": null,
      "outputs": []
    },
    {
      "cell_type": "markdown",
      "source": [
        "---\n",
        "## **1.10 Writing to the file**\n",
        "---"
      ],
      "metadata": {
        "id": "GFcbickjD0R7"
      }
    },
    {
      "cell_type": "code",
      "source": [
        "# Get the Current Working Directory, Similar to pwd in linux\n",
        "getwd()\n",
        "# for mac use pwd - present working directory in terminal.app to see"
      ],
      "metadata": {
        "_uuid": "b1b42519-6c1f-41f1-9209-ec2fff912ec6",
        "_cell_guid": "e653392a-adc7-41b5-a5b3-cfd62b40d3b7",
        "jupyter": {
          "outputs_hidden": false
        },
        "execution": {
          "iopub.status.busy": "2022-07-03T15:25:28.268022Z",
          "iopub.execute_input": "2022-07-03T15:25:28.270850Z",
          "iopub.status.idle": "2022-07-03T15:25:28.304475Z"
        },
        "trusted": true,
        "id": "i8sT9FcQD0R8"
      },
      "execution_count": null,
      "outputs": []
    },
    {
      "cell_type": "code",
      "source": [
        "# Writing actual and predicted to a file\n",
        "write.csv(data.frame(Actual,Predicted), file=\"SampleData.csv\", row.names=FALSE)\n",
        "# Go to the path and check for file"
      ],
      "metadata": {
        "id": "7Fd_4t7eD_vu"
      },
      "execution_count": null,
      "outputs": []
    },
    {
      "cell_type": "code",
      "source": [
        "data.frame(Actual,Predicted)"
      ],
      "metadata": {
        "id": "l_wXedXbNS74"
      },
      "execution_count": null,
      "outputs": []
    },
    {
      "cell_type": "markdown",
      "source": [
        "---\n",
        "## **1.11 Read Actual/Predicted file and calculate the model evaluation parameters**\n",
        "---"
      ],
      "metadata": {
        "id": "KWvVDq0iEsGs"
      }
    },
    {
      "cell_type": "code",
      "source": [
        "# Get the Current Working Directory, Similar to pwd in linux\n",
        "getwd()"
      ],
      "metadata": {
        "_uuid": "b1b42519-6c1f-41f1-9209-ec2fff912ec6",
        "_cell_guid": "e653392a-adc7-41b5-a5b3-cfd62b40d3b7",
        "jupyter": {
          "outputs_hidden": false
        },
        "execution": {
          "iopub.status.busy": "2022-07-03T15:25:28.268022Z",
          "iopub.execute_input": "2022-07-03T15:25:28.270850Z",
          "iopub.status.idle": "2022-07-03T15:25:28.304475Z"
        },
        "trusted": true,
        "id": "cbFTBCSkEsGu"
      },
      "execution_count": null,
      "outputs": []
    },
    {
      "cell_type": "code",
      "source": [
        "# Read the datafile\n",
        "dataset <- read.csv(\"SampleData.csv\")\n",
        "print(head(dataset))"
      ],
      "metadata": {
        "id": "roPbwEmsFuS0"
      },
      "execution_count": null,
      "outputs": []
    },
    {
      "cell_type": "code",
      "source": [
        "# Get the column data from datafile\n",
        "cat (\"Actual-->\", head(dataset$Actual))\n",
        "cat (\"\\nPredicted-->\", head(dataset$Predicted))\n"
      ],
      "metadata": {
        "id": "KW2_Ppn9GAfY"
      },
      "execution_count": null,
      "outputs": []
    },
    {
      "cell_type": "code",
      "source": [
        "# Calcuate the model evaluation parameters and write to file\n",
        "\n",
        "# Correlation\n",
        "COR = round(cor(Actual,Predicted),2)\n",
        "\n",
        "# R_Square\n",
        "R_Square = round(COR * COR,2)\n",
        "\n",
        "# Mean Absolute Error (MAE)\n",
        "MAE = round(mean(abs(Actual-Predicted)),2)\n",
        "\n",
        "# Accuracy with 0.1 acceptable error\n",
        "Accuracy = round(mean(abs(Actual-Predicted) > 0.1),2)*100\n",
        "\n",
        "# Writing the modle evaluation parameters to a file\n",
        "write.csv(data.frame(COR, R_Square, MAE, Accuracy), file=\"ResultFile.csv\", row.names=FALSE)\n",
        "# Go to the path and check for file"
      ],
      "metadata": {
        "id": "zeq4X63vHCUZ"
      },
      "execution_count": null,
      "outputs": []
    },
    {
      "cell_type": "markdown",
      "source": [
        "---\n",
        "# **2. Basics of Data frame**\n",
        "---\n",
        "## **2.1 Generate random matrices**\n",
        "---"
      ],
      "metadata": {
        "id": "N6OvLgPd5CM3"
      }
    },
    {
      "cell_type": "code",
      "source": [
        "# Generate a matrix of 100 by 3\n",
        "\n",
        "NRows = 100\n",
        "NCols = 3\n",
        "\n",
        "m1 <- matrix(runif(NCols * NRows, min=1, max=10), ncol=NCols)\n",
        "class(m1)\n",
        "head(m1)"
      ],
      "metadata": {
        "_uuid": "b1b42519-6c1f-41f1-9209-ec2fff912ec6",
        "_cell_guid": "e653392a-adc7-41b5-a5b3-cfd62b40d3b7",
        "jupyter": {
          "outputs_hidden": false
        },
        "execution": {
          "iopub.status.busy": "2022-07-03T15:25:28.268022Z",
          "iopub.execute_input": "2022-07-03T15:25:28.270850Z",
          "iopub.status.idle": "2022-07-03T15:25:28.304475Z"
        },
        "trusted": true,
        "id": "tJa2HiId5CM4"
      },
      "execution_count": null,
      "outputs": []
    },
    {
      "cell_type": "code",
      "source": [
        "# Generate two more matrices\n",
        "NCols = 4\n",
        "m2 <- matrix(runif(NCols*NRows, min=10, max=50), ncol=NCols)\n",
        "class(m2)\n",
        "print(head(m2))\n",
        "\n",
        "NCols = 3\n",
        "m3 <- matrix(runif(NCols*NRows, min=100, max=200), ncol=NCols)\n",
        "class(m3)\n",
        "print(head(m3))"
      ],
      "metadata": {
        "id": "5AadulcNQeOw"
      },
      "execution_count": null,
      "outputs": []
    },
    {
      "cell_type": "markdown",
      "source": [
        "---\n",
        "## **2.2 Merging matrices**\n",
        "---"
      ],
      "metadata": {
        "id": "9McnAgh_Q3Ey"
      }
    },
    {
      "cell_type": "code",
      "source": [
        "# Merging matrices\n",
        "dataset <- round(data.frame(m1, m2, m3),2)\n",
        "print(head(dataset))"
      ],
      "metadata": {
        "_uuid": "b1b42519-6c1f-41f1-9209-ec2fff912ec6",
        "_cell_guid": "e653392a-adc7-41b5-a5b3-cfd62b40d3b7",
        "jupyter": {
          "outputs_hidden": false
        },
        "execution": {
          "iopub.status.busy": "2022-07-03T15:25:28.268022Z",
          "iopub.execute_input": "2022-07-03T15:25:28.270850Z",
          "iopub.status.idle": "2022-07-03T15:25:28.304475Z"
        },
        "trusted": true,
        "id": "R5G55EleQ3E0"
      },
      "execution_count": null,
      "outputs": []
    },
    {
      "cell_type": "markdown",
      "source": [
        "---\n",
        "## **2.3 Get the column names**\n",
        "---"
      ],
      "metadata": {
        "id": "ohPUPDWsRfcc"
      }
    },
    {
      "cell_type": "code",
      "source": [
        "# Column names\n",
        "names(dataset)\n"
      ],
      "metadata": {
        "_uuid": "b1b42519-6c1f-41f1-9209-ec2fff912ec6",
        "_cell_guid": "e653392a-adc7-41b5-a5b3-cfd62b40d3b7",
        "jupyter": {
          "outputs_hidden": false
        },
        "execution": {
          "iopub.status.busy": "2022-07-03T15:25:28.268022Z",
          "iopub.execute_input": "2022-07-03T15:25:28.270850Z",
          "iopub.status.idle": "2022-07-03T15:25:28.304475Z"
        },
        "trusted": true,
        "id": "8XpzFriqRfcf"
      },
      "execution_count": null,
      "outputs": []
    },
    {
      "cell_type": "markdown",
      "source": [
        "---\n",
        "## **2.4 Get the total number of columns**\n",
        "---"
      ],
      "metadata": {
        "id": "gzcexeRoSs0d"
      }
    },
    {
      "cell_type": "code",
      "source": [
        "# Total number of columns\n",
        "NCols = ncol(m1) + ncol(m2) + ncol(m3)\n",
        "NCols"
      ],
      "metadata": {
        "_uuid": "b1b42519-6c1f-41f1-9209-ec2fff912ec6",
        "_cell_guid": "e653392a-adc7-41b5-a5b3-cfd62b40d3b7",
        "jupyter": {
          "outputs_hidden": false
        },
        "execution": {
          "iopub.status.busy": "2022-07-03T15:25:28.268022Z",
          "iopub.execute_input": "2022-07-03T15:25:28.270850Z",
          "iopub.status.idle": "2022-07-03T15:25:28.304475Z"
        },
        "trusted": true,
        "id": "uLCTH1znSs0f"
      },
      "execution_count": null,
      "outputs": []
    },
    {
      "cell_type": "code",
      "source": [
        "# Total number of columns in dataset\n",
        "NCols = length(names(dataset))\n",
        "NCols"
      ],
      "metadata": {
        "id": "pBSvInzlS92M"
      },
      "execution_count": null,
      "outputs": []
    },
    {
      "cell_type": "markdown",
      "source": [
        "---\n",
        "## **2.5 Rename of columns**\n",
        "---"
      ],
      "metadata": {
        "id": "l39aheYFbaJ4"
      }
    },
    {
      "cell_type": "code",
      "source": [
        "# Generate the sequence of numbers\n",
        "c(1:NCols)"
      ],
      "metadata": {
        "_uuid": "b1b42519-6c1f-41f1-9209-ec2fff912ec6",
        "_cell_guid": "e653392a-adc7-41b5-a5b3-cfd62b40d3b7",
        "jupyter": {
          "outputs_hidden": false
        },
        "execution": {
          "iopub.status.busy": "2022-07-03T15:25:28.268022Z",
          "iopub.execute_input": "2022-07-03T15:25:28.270850Z",
          "iopub.status.idle": "2022-07-03T15:25:28.304475Z"
        },
        "trusted": true,
        "id": "4bqDgcBIbaJ7"
      },
      "execution_count": null,
      "outputs": []
    },
    {
      "cell_type": "code",
      "source": [
        "# Concatinate with sequence\n",
        "paste(\"F\", c(1:NCols),sep='')"
      ],
      "metadata": {
        "id": "t32jRfXib6av"
      },
      "execution_count": null,
      "outputs": []
    },
    {
      "cell_type": "code",
      "source": [
        "# Rename of columns\n",
        "names(dataset)<- paste(\"F\",c(1:NCols),sep='')\n",
        "print(head(dataset))"
      ],
      "metadata": {
        "id": "F3dKKSxrbwDd"
      },
      "execution_count": null,
      "outputs": []
    },
    {
      "cell_type": "markdown",
      "source": [
        "---\n",
        "## **2.6 Writing dataset to the file**\n",
        "---"
      ],
      "metadata": {
        "id": "S-ittO-V4hmc"
      }
    },
    {
      "cell_type": "code",
      "source": [
        "# Writing to the file\n",
        "write.csv(dataset, file=\"NewDataset.csv\", row.names=FALSE)\n",
        "# Go to the path and check for file"
      ],
      "metadata": {
        "id": "k6mJFXijceP5"
      },
      "execution_count": null,
      "outputs": []
    },
    {
      "cell_type": "markdown",
      "source": [
        "---\n",
        "## **2.7 Plotting the dataset**\n",
        "---"
      ],
      "metadata": {
        "id": "rxFs4cFU1jGo"
      }
    },
    {
      "cell_type": "code",
      "source": [
        "# Plot the dataset\n",
        "plot(dataset)"
      ],
      "metadata": {
        "id": "4gDptFzS1TyN"
      },
      "execution_count": null,
      "outputs": []
    },
    {
      "cell_type": "markdown",
      "source": [
        "---\n",
        "## **2.8 Summary the dataset**\n",
        "---"
      ],
      "metadata": {
        "id": "2k5OSHs-4QOT"
      }
    },
    {
      "cell_type": "code",
      "source": [
        "summary(dataset)"
      ],
      "metadata": {
        "id": "ineeMPZ54QOX"
      },
      "execution_count": null,
      "outputs": []
    },
    {
      "cell_type": "markdown",
      "source": [
        "---\n",
        "# **3. Data selection in dataframe**\n",
        "---\n",
        "## **3.1 Read and head the dataset**\n",
        "---"
      ],
      "metadata": {
        "id": "fTYn7cZw1zMB"
      }
    },
    {
      "cell_type": "code",
      "source": [
        "# Read the dataset file\n",
        "dataset = read.csv(\"NewDataset.csv\")\n",
        "head(dataset)"
      ],
      "metadata": {
        "id": "dhAYzwTW1zMD"
      },
      "execution_count": null,
      "outputs": []
    },
    {
      "cell_type": "markdown",
      "source": [
        "---\n",
        "### **3.2 Select top 10 rows of F4, F6, F7 columns**\n",
        "---"
      ],
      "metadata": {
        "id": "gcurfyvr4_gU"
      }
    },
    {
      "cell_type": "code",
      "source": [
        "dataset[1:10,c(\"F4\",\"F6\",\"F7\")]  # returns a data.frame"
      ],
      "metadata": {
        "id": "Tzutd7rM2Byu"
      },
      "execution_count": null,
      "outputs": []
    },
    {
      "cell_type": "markdown",
      "source": [
        "---\n",
        "### **3.3 Select bottom 10 rows of F4, F6, F7 columns**\n",
        "---"
      ],
      "metadata": {
        "id": "7mFj_c9XBMIO"
      }
    },
    {
      "cell_type": "code",
      "source": [
        "n = 10\n",
        "s = (nrow(dataset)-n+1):nrow(dataset)\n",
        "s"
      ],
      "metadata": {
        "id": "yIkwnvG_BMIQ"
      },
      "execution_count": null,
      "outputs": []
    },
    {
      "cell_type": "code",
      "source": [
        "dataset[s,c(\"F4\",\"F6\",\"F7\")]  # returns a data.frame"
      ],
      "metadata": {
        "id": "Ovjt2yBbJLkQ"
      },
      "execution_count": null,
      "outputs": []
    },
    {
      "cell_type": "markdown",
      "source": [
        "---\n",
        "### **3.4 Select random columns in dataframe**\n",
        "---"
      ],
      "metadata": {
        "id": "kruEiHfQ4GF-"
      }
    },
    {
      "cell_type": "code",
      "source": [
        "head(sample(dataset,3))\n",
        "# Run the code again 2-3 times"
      ],
      "metadata": {
        "id": "EYY3TbhT2kcE"
      },
      "execution_count": null,
      "outputs": []
    },
    {
      "cell_type": "code",
      "source": [
        "#To return 5 random rows\n",
        "index <- sample(1:nrow(dataset), 5)\n",
        "index\n",
        "dataset[index,]\n",
        "\n",
        "# Run the code again 2-3 times"
      ],
      "metadata": {
        "id": "vnH7VCJj5q-k"
      },
      "execution_count": null,
      "outputs": []
    },
    {
      "cell_type": "markdown",
      "source": [
        "---\n",
        "### **3.5 Shuffle the data row wise.**\n",
        "---"
      ],
      "metadata": {
        "id": "V-ZGHyAsNZ4-"
      }
    },
    {
      "cell_type": "code",
      "source": [
        "dataset <- dataset[sample(nrow(dataset)),]\n",
        "head(dataset)\n",
        "# Run the code again 2-3 times"
      ],
      "metadata": {
        "id": "x-WXgH2VNZ4_"
      },
      "execution_count": null,
      "outputs": []
    },
    {
      "cell_type": "markdown",
      "source": [
        "---\n",
        "### **3.6 Divide the data into train and test**\n",
        "---"
      ],
      "metadata": {
        "id": "yjtU5agDv0Rt"
      }
    },
    {
      "cell_type": "code",
      "source": [
        "dataset = read.csv(\"NewDataset.csv\")\n",
        "totalDataset = nrow(dataset)\n",
        "totalDataset\n",
        "training = 70\n",
        "training"
      ],
      "metadata": {
        "id": "x2OlMkhpv0Rv"
      },
      "execution_count": null,
      "outputs": []
    },
    {
      "cell_type": "code",
      "source": [
        "trainDataset <- dataset[1:(totalDataset * training/100),]\n",
        "nrow(trainDataset)\n",
        "head(trainDataset)"
      ],
      "metadata": {
        "id": "WsrvBTeszGri"
      },
      "execution_count": null,
      "outputs": []
    },
    {
      "cell_type": "code",
      "source": [
        "testDataset <- dataset[(totalDataset * training/100):totalDataset,]\n",
        "nrow(testDataset)\n",
        "head(testDataset)"
      ],
      "metadata": {
        "id": "ve9rSAwOzyWK"
      },
      "execution_count": null,
      "outputs": []
    },
    {
      "cell_type": "markdown",
      "source": [
        "---\n",
        "# **4. Plotting**\n",
        "---\n",
        "## **4.1 Basics of Plotting**"
      ],
      "metadata": {
        "id": "tTSP9BbtdD07"
      }
    },
    {
      "cell_type": "code",
      "source": [
        "# Generate random nubers\n",
        "x <- round(runif(100, min = 1, max = 5),2)\n",
        "x"
      ],
      "metadata": {
        "_uuid": "b1b42519-6c1f-41f1-9209-ec2fff912ec6",
        "_cell_guid": "e653392a-adc7-41b5-a5b3-cfd62b40d3b7",
        "jupyter": {
          "outputs_hidden": false
        },
        "execution": {
          "iopub.status.busy": "2022-07-03T15:25:28.268022Z",
          "iopub.execute_input": "2022-07-03T15:25:28.270850Z",
          "iopub.status.idle": "2022-07-03T15:25:28.304475Z"
        },
        "trusted": true,
        "id": "9i3gFlY3dD08"
      },
      "execution_count": null,
      "outputs": []
    },
    {
      "cell_type": "code",
      "source": [
        "# Plot\n",
        "plot(x)"
      ],
      "metadata": {
        "id": "BWHMMGU7dmah"
      },
      "execution_count": null,
      "outputs": []
    },
    {
      "cell_type": "code",
      "source": [
        "# Title in Plot\n",
        "plot(x, main = \"Plot of x against index 1, 2, ..., length(x)\")\n"
      ],
      "metadata": {
        "id": "g8QUQY50dnb6"
      },
      "execution_count": null,
      "outputs": []
    },
    {
      "cell_type": "code",
      "source": [
        "# X,Y Labels\n",
        "plot(x, main = \"Plot of x against index 1, 2, ..., length(x)\", xlab = \"X Axis\", ylab=\"Y Axis\")"
      ],
      "metadata": {
        "id": "eLEpS_bedoNv"
      },
      "execution_count": null,
      "outputs": []
    },
    {
      "cell_type": "markdown",
      "source": [
        "---\n",
        "## **4.2 Bivariate Plot**\n",
        "---"
      ],
      "metadata": {
        "id": "VVUc7MDpgIo3"
      }
    },
    {
      "cell_type": "code",
      "source": [
        "# Bivariate 'scatter plot' of y vs x\n",
        "y <- x^2 + runif(100)\n",
        "plot(x, y, main = \"Bivariate 'scatter plot' of y vs x\")"
      ],
      "metadata": {
        "id": "aTmnfhNZgD5e"
      },
      "execution_count": null,
      "outputs": []
    },
    {
      "cell_type": "markdown",
      "source": [
        "---\n",
        "## **4.3 Saving the Plot**\n",
        "---"
      ],
      "metadata": {
        "id": "Q1-97_ABgsWD"
      }
    },
    {
      "cell_type": "code",
      "source": [
        "# Saving the Plot to a file\n",
        "getwd()   # Get the Current Working Directory, Similar to pwd in linux\n",
        "png(filename=\"MyPlot.png\")\n",
        "plot(x, y, main = \"Bivariate 'scatter plot' of y vs x\",xlab = \"X Axis\", ylab=\"Y Axis\")\n",
        "dev.off()\n",
        "# Go to the path and check for file"
      ],
      "metadata": {
        "id": "nPOG3XJsgsWF"
      },
      "execution_count": null,
      "outputs": []
    },
    {
      "cell_type": "markdown",
      "source": [
        "---\n",
        "## **4.4 Other Plots**\n",
        "---"
      ],
      "metadata": {
        "id": "vMQamf8vhQtj"
      }
    },
    {
      "cell_type": "code",
      "source": [
        "z1 <- list(x = x, y = y)\n",
        "z1\n",
        "class(z1)"
      ],
      "metadata": {
        "id": "l4wviAT-hQtm"
      },
      "execution_count": null,
      "outputs": []
    },
    {
      "cell_type": "code",
      "source": [
        "# Plot\n",
        "plot(z1)"
      ],
      "metadata": {
        "id": "4nH9C8TqhYst"
      },
      "execution_count": null,
      "outputs": []
    },
    {
      "cell_type": "code",
      "source": [
        "# Variation in Plot\n",
        "plot(z1, type = \"l\")  # l is for lines\n"
      ],
      "metadata": {
        "id": "Qdbzq4DRiGa_"
      },
      "execution_count": null,
      "outputs": []
    },
    {
      "cell_type": "markdown",
      "source": [
        "---\n",
        "## **4.5 Increasing Order Plotting**\n",
        "---"
      ],
      "metadata": {
        "id": "xTGItQo7iVkQ"
      }
    },
    {
      "cell_type": "code",
      "source": [
        "# Generate ording\n",
        "print(x)\n",
        "ord <- order(x)\n",
        "print(ord)"
      ],
      "metadata": {
        "id": "pTGg0ARmiVG6"
      },
      "execution_count": null,
      "outputs": []
    },
    {
      "cell_type": "code",
      "source": [
        "# Merge x, y\n",
        "z <- list(x = x[ord], y = y[ord])\n",
        "z"
      ],
      "metadata": {
        "id": "yOnahCRLitOb"
      },
      "execution_count": null,
      "outputs": []
    },
    {
      "cell_type": "code",
      "source": [
        "# lines\n",
        "plot(z, type = \"l\", main= \"X vs Y\", xlab = \"X Axis\", ylab=\"Y Axis\")"
      ],
      "metadata": {
        "id": "GspBEDpGjQUS"
      },
      "execution_count": null,
      "outputs": []
    },
    {
      "cell_type": "code",
      "source": [
        "# Points and lines overlayed\n",
        "plot(z, type = \"o\")"
      ],
      "metadata": {
        "id": "hfofER2XjVIa"
      },
      "execution_count": null,
      "outputs": []
    },
    {
      "cell_type": "code",
      "source": [
        "# steps\n",
        "plot(z, type = \"s\")"
      ],
      "metadata": {
        "id": "kFVLleUdjYI-"
      },
      "execution_count": null,
      "outputs": []
    },
    {
      "cell_type": "code",
      "source": [
        "# histogram-like\n",
        "plot(z, type = \"h\")"
      ],
      "metadata": {
        "id": "sD0VeFQJjbda"
      },
      "execution_count": null,
      "outputs": []
    },
    {
      "cell_type": "markdown",
      "source": [
        "---\n",
        "## **4.6 Grid and a curve plotting**\n",
        "---"
      ],
      "metadata": {
        "id": "euka8QYrkG8T"
      }
    },
    {
      "cell_type": "code",
      "source": [
        "plot(z, type = \"n\")\n",
        "\n",
        "# Uncomment each line and run\n",
        "grid(lty = 1, lwd = 2)\n",
        "curve(x^2, col = \"blue\", add = TRUE)\n",
        "curve(x^2 + 1, col = \"blue\", add = TRUE)\n",
        "points(z, pch = 20)"
      ],
      "metadata": {
        "id": "uphm2QDrkH0L"
      },
      "execution_count": null,
      "outputs": []
    },
    {
      "cell_type": "markdown",
      "source": [
        "---\n",
        "## **4.7 Grphical Parameters**\n",
        "---"
      ],
      "metadata": {
        "id": "acu3PS-ZlGrP"
      }
    },
    {
      "cell_type": "code",
      "source": [
        "plot(z, type = \"o\", col = 'red', pch = 16, cex = 2)"
      ],
      "metadata": {
        "id": "KyGBskshlGrR"
      },
      "execution_count": null,
      "outputs": []
    },
    {
      "cell_type": "code",
      "source": [
        "plot(z, col = c('red', 'blue'), pch = \"+\", cex = 2)"
      ],
      "metadata": {
        "id": "blddhIrrlORk"
      },
      "execution_count": null,
      "outputs": []
    },
    {
      "cell_type": "markdown",
      "source": [
        "---\n",
        "## **4.8 Colors Plotting**\n",
        "---"
      ],
      "metadata": {
        "id": "hwDoZv-ulW4i"
      }
    },
    {
      "cell_type": "code",
      "source": [
        "# List of colors\n",
        "colors()"
      ],
      "metadata": {
        "id": "YgWuOuqzlW4k"
      },
      "execution_count": null,
      "outputs": []
    },
    {
      "cell_type": "code",
      "source": [
        "# default colours (palette)\n",
        "palette()"
      ],
      "metadata": {
        "id": "EkhEbkfQlg7m"
      },
      "execution_count": null,
      "outputs": []
    },
    {
      "cell_type": "code",
      "source": [
        "# Change palette colors\n",
        "palette(sample(colors(), 10))\n",
        "plot(runif(50), col = rep(1:10, each = 5), pch = 16, cex = 2)\n",
        "\n",
        "# Re-run the code again"
      ],
      "metadata": {
        "id": "kc208SGWlh5h"
      },
      "execution_count": null,
      "outputs": []
    },
    {
      "cell_type": "markdown",
      "source": [
        "---\n",
        "## **4.9 Histogram Plotting - Frequency Plotting**\n",
        "---"
      ],
      "metadata": {
        "id": "392yti5To-R1"
      }
    },
    {
      "cell_type": "code",
      "source": [
        "# create a grouping variable of length 100\n",
        "a <- factor(sample(1:5, 100, replace = TRUE), levels = 1:5)\n",
        "a\n",
        "levels(a) <- LETTERS[1:5]\n",
        "a"
      ],
      "metadata": {
        "id": "KvMaUf7Po-R3"
      },
      "execution_count": null,
      "outputs": []
    },
    {
      "cell_type": "code",
      "source": [
        "# Histogram\n",
        "plot(a)"
      ],
      "metadata": {
        "id": "YZWG-Zz7pJeq"
      },
      "execution_count": null,
      "outputs": []
    },
    {
      "cell_type": "code",
      "source": [
        "# Box Plot\n",
        "plot(y ~ a)"
      ],
      "metadata": {
        "id": "xZH4lJTtpcF9"
      },
      "execution_count": null,
      "outputs": []
    },
    {
      "cell_type": "markdown",
      "source": [
        "---\n",
        "## **4.10 Function Plotting**\n",
        "---"
      ],
      "metadata": {
        "id": "Z-zzfHgB15f3"
      }
    },
    {
      "cell_type": "code",
      "source": [
        "plot(sin, from = -2 * pi, to = 2 * pi)"
      ],
      "metadata": {
        "id": "Cs7olKLo15f6"
      },
      "execution_count": null,
      "outputs": []
    },
    {
      "cell_type": "code",
      "source": [
        "plot(cos, from = -2 * pi, to = 2 * pi)"
      ],
      "metadata": {
        "id": "8L6FlK4e2CoV"
      },
      "execution_count": null,
      "outputs": []
    },
    {
      "cell_type": "code",
      "source": [
        " # Sign function\n",
        " damped_sin <- function(x) sin(5 * x) * exp(-x^2)"
      ],
      "metadata": {
        "id": "TIJ-1Dtz2GcJ"
      },
      "execution_count": null,
      "outputs": []
    },
    {
      "cell_type": "code",
      "source": [
        "class(damped_sin)"
      ],
      "metadata": {
        "id": "2ucuGinw2RXy"
      },
      "execution_count": null,
      "outputs": []
    },
    {
      "cell_type": "code",
      "source": [
        "plot(damped_sin, from = -pi, to = pi)"
      ],
      "metadata": {
        "id": "msV49Ob52R2Q"
      },
      "execution_count": null,
      "outputs": []
    },
    {
      "cell_type": "markdown",
      "source": [
        "---\n",
        "# **5. Working with iris Dataset using dplyr**\n",
        "---\n",
        "## **5.1 Import the iris**"
      ],
      "metadata": {
        "id": "li5M7YwOp9Lq"
      }
    },
    {
      "cell_type": "code",
      "source": [
        "data(iris)"
      ],
      "metadata": {
        "id": "j-nAN4lp9TKm"
      },
      "execution_count": null,
      "outputs": []
    },
    {
      "cell_type": "code",
      "source": [
        "# Plot iris\n",
        "plot(iris)"
      ],
      "metadata": {
        "id": "S1s4l5wf9GNF"
      },
      "execution_count": null,
      "outputs": []
    },
    {
      "cell_type": "code",
      "source": [
        "# color by Species\n",
        "plot(iris[1:4], col = as.numeric(iris$Species))"
      ],
      "metadata": {
        "id": "fouuT7uw88PB"
      },
      "execution_count": null,
      "outputs": []
    },
    {
      "cell_type": "markdown",
      "source": [
        "---\n",
        "## **5.2 Library inclusion**\n",
        "---"
      ],
      "metadata": {
        "id": "ixy_kpeX8-Ac"
      }
    },
    {
      "cell_type": "code",
      "source": [
        "# install.packages(\"dplyr\")\n",
        "library(dplyr)\n",
        "\n",
        "# Re-run again"
      ],
      "metadata": {
        "id": "sosf41zBp9Ls"
      },
      "execution_count": null,
      "outputs": []
    },
    {
      "cell_type": "markdown",
      "source": [
        "---\n",
        "## **5.3 Working with Select()**\n",
        "---"
      ],
      "metadata": {
        "id": "dOovhrtA7Nv6"
      }
    },
    {
      "cell_type": "code",
      "source": [
        "#To select the following columns\n",
        "selected <- select(iris, Sepal.Length, Sepal.Width, Petal.Length)\n",
        "head(selected)"
      ],
      "metadata": {
        "id": "QYQbKY177Nv9"
      },
      "execution_count": null,
      "outputs": []
    },
    {
      "cell_type": "code",
      "source": [
        "#To select all columns from Sepal.Length to Petal.Length\n",
        "selected1 <- select(iris, Sepal.Length:Petal.Length)\n",
        "head(selected1)"
      ],
      "metadata": {
        "id": "RwthP4Qz7xDO"
      },
      "execution_count": null,
      "outputs": []
    },
    {
      "cell_type": "code",
      "source": [
        "#To select columns with numeric indexes\n",
        "selected1 <- select(iris,c(3:5))\n",
        "head(selected1)"
      ],
      "metadata": {
        "id": "rT_PLGeD7z7S"
      },
      "execution_count": null,
      "outputs": []
    },
    {
      "cell_type": "code",
      "source": [
        "#We use(-)to hide a particular column\n",
        "selected <- select(iris, -Sepal.Length, -Sepal.Width)\n",
        "head(selected)"
      ],
      "metadata": {
        "id": "Q-oCVxwG9qf-"
      },
      "execution_count": null,
      "outputs": []
    },
    {
      "cell_type": "markdown",
      "source": [
        "---\n",
        "## **5.4 Working with filter()**\n",
        "---"
      ],
      "metadata": {
        "id": "MJ-nZI_r9xef"
      }
    },
    {
      "cell_type": "code",
      "source": [
        "#To select the first 3 rows with Species as setosa\n",
        "filtered <- filter(iris, Species == \"setosa\" )\n",
        "head(filtered)"
      ],
      "metadata": {
        "id": "OG0BW9lw9xeh"
      },
      "execution_count": null,
      "outputs": []
    },
    {
      "cell_type": "code",
      "source": [
        "#To select the last 5 rows with Species as versicolor and Sepal width more than 3\n",
        "filtered1 <- filter(iris, Species == \"versicolor\", Sepal.Width > 3)\n",
        "tail(filtered1)"
      ],
      "metadata": {
        "id": "ZActkG6N9-LF"
      },
      "execution_count": null,
      "outputs": []
    },
    {
      "cell_type": "markdown",
      "source": [
        "---\n",
        "## **5.5 Working with Mutate()**\n",
        "---"
      ],
      "metadata": {
        "id": "gRPnW7YG-NJE"
      }
    },
    {
      "cell_type": "code",
      "source": [
        "#To create a column “Greater.Half” which stores TRUE if given condition is TRUE\n",
        "col1 <- mutate(iris, Greater.Half = Sepal.Width > 0.5 * Sepal.Length)\n",
        "tail(col1)"
      ],
      "metadata": {
        "id": "s2PwcjXf-NJF"
      },
      "execution_count": null,
      "outputs": []
    },
    {
      "cell_type": "code",
      "source": [
        "#To check how many flowers satisfy this condition\n",
        "table(col1$Greater.Half)"
      ],
      "metadata": {
        "id": "O4x3vw55-dQs"
      },
      "execution_count": null,
      "outputs": []
    },
    {
      "cell_type": "markdown",
      "source": [
        "---\n",
        "## **5.6 Working with Arrange()**\n",
        "---"
      ],
      "metadata": {
        "id": "gDq504zZ-iRo"
      }
    },
    {
      "cell_type": "code",
      "source": [
        "#To arrange Sepal Width in ascending order\n",
        "arranged <- arrange(col1, Sepal.Width)\n",
        "head(arranged)"
      ],
      "metadata": {
        "id": "EPUuHV4G-iRp"
      },
      "execution_count": null,
      "outputs": []
    },
    {
      "cell_type": "code",
      "source": [
        "#To arrange Sepal Width in descending order\n",
        "arranged <- arrange(col1, desc(Sepal.Width))\n",
        "head(arranged)"
      ],
      "metadata": {
        "id": "NO8Cmw8y-r_U"
      },
      "execution_count": null,
      "outputs": []
    },
    {
      "cell_type": "markdown",
      "source": [
        "---\n",
        "## **5.7 Working with Arrange()**\n",
        "---"
      ],
      "metadata": {
        "id": "_S4-S3aQ-6-l"
      }
    },
    {
      "cell_type": "code",
      "source": [
        "#To arrange Sepal Width in ascending order\n",
        "arranged <- arrange(col1, Sepal.Width)\n",
        "head(arranged)"
      ],
      "metadata": {
        "id": "HzOUOSsd-6-n"
      },
      "execution_count": null,
      "outputs": []
    },
    {
      "cell_type": "markdown",
      "source": [
        "---\n",
        "# **6. Dataset Manipulation**\n",
        "---\n",
        "## **6.1 Merging Datasets (cbind, Colunm wise)**"
      ],
      "metadata": {
        "id": "dhBqvjmoDWZi"
      }
    },
    {
      "cell_type": "code",
      "source": [
        "m1 <- matrix(c(1:9),c(3,3))\n",
        "m2 <- matrix(c(10:18),c(3,3))\n",
        "cbind(m1,m2)"
      ],
      "metadata": {
        "id": "wBWm1BoMDWZn"
      },
      "execution_count": null,
      "outputs": []
    },
    {
      "cell_type": "markdown",
      "source": [
        "---\n",
        "## **6.2 Merging Datasets (rbind, Row wise)**\n",
        "---"
      ],
      "metadata": {
        "id": "ez49yMXcD5dB"
      }
    },
    {
      "cell_type": "code",
      "source": [
        "rbind(m1,m2)"
      ],
      "metadata": {
        "id": "t2hzWXI3D5dF"
      },
      "execution_count": null,
      "outputs": []
    },
    {
      "cell_type": "markdown",
      "source": [
        "---\n",
        "## **6.3 Merge Datasets (merge, Row wise)**\n",
        "---"
      ],
      "metadata": {
        "id": "oT3MPCH3IFMb"
      }
    },
    {
      "cell_type": "code",
      "source": [
        "names <- c('v1','v2','v3')\n",
        "colnames(m1) <- names\n",
        "colnames(m2) <- names\n",
        "merge(m1,m2, by = names, all = TRUE)"
      ],
      "metadata": {
        "id": "t1sl_sDNIFMe"
      },
      "execution_count": null,
      "outputs": []
    },
    {
      "cell_type": "markdown",
      "source": [
        "---\n",
        "## **6.4 Apply Datasets (apply())**\n",
        "---"
      ],
      "metadata": {
        "id": "CrxsZ0reIUXD"
      }
    },
    {
      "cell_type": "code",
      "source": [
        "# Sum the row wise\n",
        "m1\n",
        "apply(m1, 1, sum)"
      ],
      "metadata": {
        "id": "r1ZZPnTlIUXG"
      },
      "execution_count": null,
      "outputs": []
    },
    {
      "cell_type": "code",
      "source": [
        "# Sum the column wise\n",
        "m1\n",
        "apply(m1, 2, sum)"
      ],
      "metadata": {
        "id": "Be1nGrIQVSzZ"
      },
      "execution_count": null,
      "outputs": []
    },
    {
      "cell_type": "code",
      "source": [
        "# Mean the column wise\n",
        "m1\n",
        "apply(m1, 2, mean)"
      ],
      "metadata": {
        "id": "yttGDs_IVvHs"
      },
      "execution_count": null,
      "outputs": []
    },
    {
      "cell_type": "code",
      "source": [
        "# Square every value\n",
        "square<-function(x) x * x\n",
        "\n",
        "apply(m1, 2, square)"
      ],
      "metadata": {
        "id": "vHNFvKhcU8Lk"
      },
      "execution_count": null,
      "outputs": []
    },
    {
      "cell_type": "markdown",
      "source": [
        "---\n",
        "## **7. Model Evaluation Parameters for Regression and Classification using R**\n",
        "---\n",
        "- For Notebook **<a href=\"https://github.com/psrana/Model-Evaluation-Parameters-for-Regression-and-Classification\" target=\"_blank\"> Click Here</a>**\n"
      ],
      "metadata": {
        "id": "Gr-5KVIDWoSH"
      }
    },
    {
      "cell_type": "markdown",
      "source": [
        "---\n",
        "## **8. Multi-criteria decision making (MCDM) using Topsis**\n",
        "---\n",
        "- For Notebook **<a href=\"https://github.com/psrana/Topsis\" target=\"_blank\"> Click Here</a>**\n"
      ],
      "metadata": {
        "id": "9OsgF0EjeDiI"
      }
    }
  ]
}